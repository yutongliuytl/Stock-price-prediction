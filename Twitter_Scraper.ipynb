{
 "cells": [
  {
   "cell_type": "code",
   "execution_count": 45,
   "metadata": {},
   "outputs": [],
   "source": [
    "import re \n",
    "import tweepy \n",
    "from tweepy import OAuthHandler \n",
    "from textblob import TextBlob\n",
    "import numpy as np"
   ]
  },
  {
   "cell_type": "code",
   "execution_count": 46,
   "metadata": {},
   "outputs": [],
   "source": [
    "class Twitter():\n",
    "    \n",
    "    \n",
    "    def __init__(self):\n",
    "        \n",
    "        consumer_key = 'AeQwO2RHwrrJsWfc6SAScYwDZ'\n",
    "        consumer_secret = 'oqT4jCPaQqEQFq9R2CaGIIQSiahGCa9X732EowCfUifpbdjopD'\n",
    "        access_token = '1054064008880214016-cdzFuQDjFRwpXXH4ZhBf5iskFZwL1F'\n",
    "        access_token_secret = 'AUQjcRWcCLkxVbfTn4e2jcnkNUvHbmElFf2ZYp9Ce7zcw'\n",
    "        \n",
    "        try:  \n",
    "            self.auth = OAuthHandler(consumer_key, consumer_secret) \n",
    "            self.auth.set_access_token(access_token, access_token_secret) \n",
    "            self.api = tweepy.API(self.auth) \n",
    "        except: \n",
    "            print(\"Error: Authentication Failed\")\n",
    "            \n",
    "    \n",
    "    def _clean_tweet(self, tweet): \n",
    "        \n",
    "        print(tweet)\n",
    "        x = ' '.join(re.sub(\"(@[A-Za-z0-9]+)|([^0-9A-Za-z \\t])|(\\w+:\\/\\/\\S+)\", \" \", tweet).split())\n",
    "        print(x)\n",
    "        return x\n",
    "                        \n",
    "    def _get_tweet_sentiment(self, tweet): \n",
    "\n",
    "        analysis = TextBlob(self._clean_tweet(tweet))\n",
    "        result = analysis.sentiment.polarity\n",
    "        if result > 0:\n",
    "            return \"positive\"\n",
    "        elif result == 0:\n",
    "            return \"neutral\"\n",
    "        else:\n",
    "            return \"negative\"\n",
    "        return \n",
    "    \n",
    "    \n",
    "    def get_sentiment(self,tweets):\n",
    "        \n",
    "        negative = 0\n",
    "        positive = 0\n",
    "        \n",
    "        for tweet in tweets:\n",
    "            if tweet[\"sentiment\"] == \"positive\":\n",
    "                positive += 1\n",
    "            elif tweet[\"sentiment\"] == \"negative\":\n",
    "                negative += 1\n",
    "        \n",
    "        if positive > negative:\n",
    "            return positive / len(tweets)\n",
    "        else:\n",
    "            return - negative / len(tweets)\n",
    "            \n",
    "                \n",
    "    def get_tweets(self, query, count = 10): \n",
    "\n",
    "        tweets = [] \n",
    "  \n",
    "        try: \n",
    "            fetched_tweets = self.api.search(q = query, count = count, result_type = \"popular\", lang = \"en\") \n",
    "  \n",
    "            for tweet in fetched_tweets: \n",
    "                \n",
    "                parsed_tweet = {} \n",
    "                parsed_tweet['text'] = tweet.text \n",
    "                parsed_tweet['sentiment'] = self._get_tweet_sentiment(tweet.text) \n",
    "                \n",
    "                if parsed_tweet['sentiment'] == 0.0:\n",
    "                    continue\n",
    "  \n",
    "                # appending parsed tweet to tweets list \n",
    "                if tweet.retweet_count > 0: \n",
    "                    if parsed_tweet not in tweets: \n",
    "                        tweets.append(parsed_tweet) \n",
    "                else: \n",
    "                    tweets.append(parsed_tweet) \n",
    "\n",
    "            return tweets \n",
    "  \n",
    "        except tweepy.TweepError as e: \n",
    "            print(\"Error : \" + str(e)) "
   ]
  },
  {
   "cell_type": "code",
   "execution_count": 47,
   "metadata": {},
   "outputs": [],
   "source": [
    "acc = Twitter()"
   ]
  },
  {
   "cell_type": "code",
   "execution_count": 93,
   "metadata": {},
   "outputs": [],
   "source": [
    "tweets = acc.get_tweets(query = 'FSLY', count = 200) "
   ]
  },
  {
   "cell_type": "code",
   "execution_count": 92,
   "metadata": {},
   "outputs": [],
   "source": [
    "for tweet in tweets:\n",
    "    print(\"{0}: {1}\".format(tweet['text'],tweet['sentiment']))"
   ]
  },
  {
   "cell_type": "code",
   "execution_count": 90,
   "metadata": {},
   "outputs": [
    {
     "name": "stdout",
     "output_type": "stream",
     "text": [
      "0.6666666666666666\n"
     ]
    }
   ],
   "source": [
    "print(acc.get_sentiment(tweets))"
   ]
  },
  {
   "cell_type": "code",
   "execution_count": null,
   "metadata": {},
   "outputs": [],
   "source": []
  }
 ],
 "metadata": {
  "kernelspec": {
   "display_name": "Python [conda env:stock] *",
   "language": "python",
   "name": "conda-env-stock-py"
  },
  "language_info": {
   "codemirror_mode": {
    "name": "ipython",
    "version": 3
   },
   "file_extension": ".py",
   "mimetype": "text/x-python",
   "name": "python",
   "nbconvert_exporter": "python",
   "pygments_lexer": "ipython3",
   "version": "3.7.3"
  }
 },
 "nbformat": 4,
 "nbformat_minor": 2
}
