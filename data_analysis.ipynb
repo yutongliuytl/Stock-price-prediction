{
 "cells": [
  {
   "cell_type": "code",
   "execution_count": 1,
   "metadata": {},
   "outputs": [],
   "source": [
    "import pandas as pd\n",
    "import numpy as np\n",
    "from sklearn.model_selection import train_test_split\n",
    "from sklearn.preprocessing import MinMaxScaler\n",
    "from tqdm._tqdm_notebook import tqdm_notebook"
   ]
  },
  {
   "cell_type": "markdown",
   "metadata": {},
   "source": [
    "## Data Preprocessing"
   ]
  },
  {
   "cell_type": "code",
   "execution_count": 2,
   "metadata": {},
   "outputs": [],
   "source": [
    "aapl = pd.read_csv(\"stocks_data/AAPL.csv\")"
   ]
  },
  {
   "cell_type": "code",
   "execution_count": 3,
   "metadata": {},
   "outputs": [
    {
     "data": {
      "text/html": [
       "<div>\n",
       "<style scoped>\n",
       "    .dataframe tbody tr th:only-of-type {\n",
       "        vertical-align: middle;\n",
       "    }\n",
       "\n",
       "    .dataframe tbody tr th {\n",
       "        vertical-align: top;\n",
       "    }\n",
       "\n",
       "    .dataframe thead th {\n",
       "        text-align: right;\n",
       "    }\n",
       "</style>\n",
       "<table border=\"1\" class=\"dataframe\">\n",
       "  <thead>\n",
       "    <tr style=\"text-align: right;\">\n",
       "      <th></th>\n",
       "      <th>High</th>\n",
       "      <th>Low</th>\n",
       "      <th>Open</th>\n",
       "      <th>Close</th>\n",
       "      <th>Volume</th>\n",
       "      <th>Adj Close</th>\n",
       "    </tr>\n",
       "  </thead>\n",
       "  <tbody>\n",
       "    <tr>\n",
       "      <td>count</td>\n",
       "      <td>4947.000000</td>\n",
       "      <td>4947.000000</td>\n",
       "      <td>4947.000000</td>\n",
       "      <td>4947.000000</td>\n",
       "      <td>4.947000e+03</td>\n",
       "      <td>4947.000000</td>\n",
       "    </tr>\n",
       "    <tr>\n",
       "      <td>mean</td>\n",
       "      <td>56.837998</td>\n",
       "      <td>55.746272</td>\n",
       "      <td>56.303765</td>\n",
       "      <td>56.303756</td>\n",
       "      <td>1.164476e+08</td>\n",
       "      <td>52.701389</td>\n",
       "    </tr>\n",
       "    <tr>\n",
       "      <td>std</td>\n",
       "      <td>60.897304</td>\n",
       "      <td>59.873248</td>\n",
       "      <td>60.377622</td>\n",
       "      <td>60.393604</td>\n",
       "      <td>9.891959e+07</td>\n",
       "      <td>58.828695</td>\n",
       "    </tr>\n",
       "    <tr>\n",
       "      <td>min</td>\n",
       "      <td>0.942143</td>\n",
       "      <td>0.908571</td>\n",
       "      <td>0.927857</td>\n",
       "      <td>0.937143</td>\n",
       "      <td>5.420532e+06</td>\n",
       "      <td>0.817857</td>\n",
       "    </tr>\n",
       "    <tr>\n",
       "      <td>25%</td>\n",
       "      <td>4.715402</td>\n",
       "      <td>4.526072</td>\n",
       "      <td>4.643929</td>\n",
       "      <td>4.620000</td>\n",
       "      <td>4.915780e+07</td>\n",
       "      <td>4.031936</td>\n",
       "    </tr>\n",
       "    <tr>\n",
       "      <td>50%</td>\n",
       "      <td>28.198572</td>\n",
       "      <td>27.507143</td>\n",
       "      <td>27.881428</td>\n",
       "      <td>27.818571</td>\n",
       "      <td>8.892380e+07</td>\n",
       "      <td>24.277634</td>\n",
       "    </tr>\n",
       "    <tr>\n",
       "      <td>75%</td>\n",
       "      <td>97.451427</td>\n",
       "      <td>95.653572</td>\n",
       "      <td>96.514999</td>\n",
       "      <td>96.625000</td>\n",
       "      <td>1.528684e+08</td>\n",
       "      <td>89.866283</td>\n",
       "    </tr>\n",
       "    <tr>\n",
       "      <td>max</td>\n",
       "      <td>233.470001</td>\n",
       "      <td>229.779999</td>\n",
       "      <td>230.779999</td>\n",
       "      <td>232.070007</td>\n",
       "      <td>1.855410e+09</td>\n",
       "      <td>228.523819</td>\n",
       "    </tr>\n",
       "  </tbody>\n",
       "</table>\n",
       "</div>"
      ],
      "text/plain": [
       "              High          Low         Open        Close        Volume  \\\n",
       "count  4947.000000  4947.000000  4947.000000  4947.000000  4.947000e+03   \n",
       "mean     56.837998    55.746272    56.303765    56.303756  1.164476e+08   \n",
       "std      60.897304    59.873248    60.377622    60.393604  9.891959e+07   \n",
       "min       0.942143     0.908571     0.927857     0.937143  5.420532e+06   \n",
       "25%       4.715402     4.526072     4.643929     4.620000  4.915780e+07   \n",
       "50%      28.198572    27.507143    27.881428    27.818571  8.892380e+07   \n",
       "75%      97.451427    95.653572    96.514999    96.625000  1.528684e+08   \n",
       "max     233.470001   229.779999   230.779999   232.070007  1.855410e+09   \n",
       "\n",
       "         Adj Close  \n",
       "count  4947.000000  \n",
       "mean     52.701389  \n",
       "std      58.828695  \n",
       "min       0.817857  \n",
       "25%       4.031936  \n",
       "50%      24.277634  \n",
       "75%      89.866283  \n",
       "max     228.523819  "
      ]
     },
     "execution_count": 3,
     "metadata": {},
     "output_type": "execute_result"
    }
   ],
   "source": [
    "aapl.describe()"
   ]
  },
  {
   "cell_type": "code",
   "execution_count": 4,
   "metadata": {},
   "outputs": [
    {
     "data": {
      "text/plain": [
       "(4947, 7)"
      ]
     },
     "execution_count": 4,
     "metadata": {},
     "output_type": "execute_result"
    }
   ],
   "source": [
    "aapl.shape"
   ]
  },
  {
   "cell_type": "code",
   "execution_count": 5,
   "metadata": {},
   "outputs": [
    {
     "data": {
      "text/html": [
       "<div>\n",
       "<style scoped>\n",
       "    .dataframe tbody tr th:only-of-type {\n",
       "        vertical-align: middle;\n",
       "    }\n",
       "\n",
       "    .dataframe tbody tr th {\n",
       "        vertical-align: top;\n",
       "    }\n",
       "\n",
       "    .dataframe thead th {\n",
       "        text-align: right;\n",
       "    }\n",
       "</style>\n",
       "<table border=\"1\" class=\"dataframe\">\n",
       "  <thead>\n",
       "    <tr style=\"text-align: right;\">\n",
       "      <th></th>\n",
       "      <th>Date</th>\n",
       "      <th>High</th>\n",
       "      <th>Low</th>\n",
       "      <th>Open</th>\n",
       "      <th>Close</th>\n",
       "      <th>Volume</th>\n",
       "      <th>Adj Close</th>\n",
       "    </tr>\n",
       "  </thead>\n",
       "  <tbody>\n",
       "    <tr>\n",
       "      <td>0</td>\n",
       "      <td>2000-01-03</td>\n",
       "      <td>4.017857</td>\n",
       "      <td>3.631696</td>\n",
       "      <td>3.745536</td>\n",
       "      <td>3.997768</td>\n",
       "      <td>133949200.0</td>\n",
       "      <td>3.488905</td>\n",
       "    </tr>\n",
       "    <tr>\n",
       "      <td>1</td>\n",
       "      <td>2000-01-04</td>\n",
       "      <td>3.950893</td>\n",
       "      <td>3.613839</td>\n",
       "      <td>3.866071</td>\n",
       "      <td>3.660714</td>\n",
       "      <td>128094400.0</td>\n",
       "      <td>3.194754</td>\n",
       "    </tr>\n",
       "    <tr>\n",
       "      <td>2</td>\n",
       "      <td>2000-01-05</td>\n",
       "      <td>3.948661</td>\n",
       "      <td>3.678571</td>\n",
       "      <td>3.705357</td>\n",
       "      <td>3.714286</td>\n",
       "      <td>194580400.0</td>\n",
       "      <td>3.241507</td>\n",
       "    </tr>\n",
       "    <tr>\n",
       "      <td>3</td>\n",
       "      <td>2000-01-06</td>\n",
       "      <td>3.821429</td>\n",
       "      <td>3.392857</td>\n",
       "      <td>3.790179</td>\n",
       "      <td>3.392857</td>\n",
       "      <td>191993200.0</td>\n",
       "      <td>2.960991</td>\n",
       "    </tr>\n",
       "    <tr>\n",
       "      <td>4</td>\n",
       "      <td>2000-01-07</td>\n",
       "      <td>3.607143</td>\n",
       "      <td>3.410714</td>\n",
       "      <td>3.446429</td>\n",
       "      <td>3.553571</td>\n",
       "      <td>115183600.0</td>\n",
       "      <td>3.101249</td>\n",
       "    </tr>\n",
       "    <tr>\n",
       "      <td>...</td>\n",
       "      <td>...</td>\n",
       "      <td>...</td>\n",
       "      <td>...</td>\n",
       "      <td>...</td>\n",
       "      <td>...</td>\n",
       "      <td>...</td>\n",
       "      <td>...</td>\n",
       "    </tr>\n",
       "    <tr>\n",
       "      <td>4937</td>\n",
       "      <td>2019-08-19</td>\n",
       "      <td>212.729996</td>\n",
       "      <td>210.029999</td>\n",
       "      <td>210.619995</td>\n",
       "      <td>210.350006</td>\n",
       "      <td>24413600.0</td>\n",
       "      <td>210.350006</td>\n",
       "    </tr>\n",
       "    <tr>\n",
       "      <td>4938</td>\n",
       "      <td>2019-08-20</td>\n",
       "      <td>213.350006</td>\n",
       "      <td>210.320007</td>\n",
       "      <td>210.880005</td>\n",
       "      <td>210.360001</td>\n",
       "      <td>26884300.0</td>\n",
       "      <td>210.360001</td>\n",
       "    </tr>\n",
       "    <tr>\n",
       "      <td>4939</td>\n",
       "      <td>2019-08-21</td>\n",
       "      <td>213.649994</td>\n",
       "      <td>211.600006</td>\n",
       "      <td>212.990005</td>\n",
       "      <td>212.639999</td>\n",
       "      <td>21535400.0</td>\n",
       "      <td>212.639999</td>\n",
       "    </tr>\n",
       "    <tr>\n",
       "      <td>4940</td>\n",
       "      <td>2019-08-22</td>\n",
       "      <td>214.440002</td>\n",
       "      <td>210.750000</td>\n",
       "      <td>213.190002</td>\n",
       "      <td>212.460007</td>\n",
       "      <td>22253700.0</td>\n",
       "      <td>212.460007</td>\n",
       "    </tr>\n",
       "    <tr>\n",
       "      <td>4941</td>\n",
       "      <td>2019-08-23</td>\n",
       "      <td>212.050003</td>\n",
       "      <td>201.000000</td>\n",
       "      <td>209.429993</td>\n",
       "      <td>202.639999</td>\n",
       "      <td>46818000.0</td>\n",
       "      <td>202.639999</td>\n",
       "    </tr>\n",
       "  </tbody>\n",
       "</table>\n",
       "<p>4942 rows × 7 columns</p>\n",
       "</div>"
      ],
      "text/plain": [
       "            Date        High         Low        Open       Close       Volume  \\\n",
       "0     2000-01-03    4.017857    3.631696    3.745536    3.997768  133949200.0   \n",
       "1     2000-01-04    3.950893    3.613839    3.866071    3.660714  128094400.0   \n",
       "2     2000-01-05    3.948661    3.678571    3.705357    3.714286  194580400.0   \n",
       "3     2000-01-06    3.821429    3.392857    3.790179    3.392857  191993200.0   \n",
       "4     2000-01-07    3.607143    3.410714    3.446429    3.553571  115183600.0   \n",
       "...          ...         ...         ...         ...         ...          ...   \n",
       "4937  2019-08-19  212.729996  210.029999  210.619995  210.350006   24413600.0   \n",
       "4938  2019-08-20  213.350006  210.320007  210.880005  210.360001   26884300.0   \n",
       "4939  2019-08-21  213.649994  211.600006  212.990005  212.639999   21535400.0   \n",
       "4940  2019-08-22  214.440002  210.750000  213.190002  212.460007   22253700.0   \n",
       "4941  2019-08-23  212.050003  201.000000  209.429993  202.639999   46818000.0   \n",
       "\n",
       "       Adj Close  \n",
       "0       3.488905  \n",
       "1       3.194754  \n",
       "2       3.241507  \n",
       "3       2.960991  \n",
       "4       3.101249  \n",
       "...          ...  \n",
       "4937  210.350006  \n",
       "4938  210.360001  \n",
       "4939  212.639999  \n",
       "4940  212.460007  \n",
       "4941  202.639999  \n",
       "\n",
       "[4942 rows x 7 columns]"
      ]
     },
     "execution_count": 5,
     "metadata": {},
     "output_type": "execute_result"
    }
   ],
   "source": [
    "aapl.head(-5)"
   ]
  },
  {
   "cell_type": "code",
   "execution_count": 6,
   "metadata": {},
   "outputs": [],
   "source": [
    "df_train, df_test = train_test_split(aapl, train_size=0.8, test_size=0.2, shuffle=False)"
   ]
  },
  {
   "cell_type": "code",
   "execution_count": 7,
   "metadata": {},
   "outputs": [
    {
     "name": "stdout",
     "output_type": "stream",
     "text": [
      "train: (3957, 7) test:(990, 7)\n"
     ]
    }
   ],
   "source": [
    "print(\"train: {0} test:{1}\".format(df_train.shape,df_test.shape))"
   ]
  },
  {
   "cell_type": "code",
   "execution_count": 8,
   "metadata": {},
   "outputs": [],
   "source": [
    "selected_cols = [\"Open\",\"High\",\"Low\",\"Close\",\"Volume\"]"
   ]
  },
  {
   "cell_type": "code",
   "execution_count": 9,
   "metadata": {},
   "outputs": [],
   "source": [
    "x_train = df_train.loc[:,selected_cols].values"
   ]
  },
  {
   "cell_type": "code",
   "execution_count": 10,
   "metadata": {},
   "outputs": [
    {
     "data": {
      "text/plain": [
       "array([[3.74553561e+00, 4.01785707e+00, 3.63169646e+00, 3.99776793e+00,\n",
       "        1.33949200e+08],\n",
       "       [3.86607146e+00, 3.95089293e+00, 3.61383939e+00, 3.66071439e+00,\n",
       "        1.28094400e+08],\n",
       "       [3.70535707e+00, 3.94866061e+00, 3.67857146e+00, 3.71428561e+00,\n",
       "        1.94580400e+08],\n",
       "       [3.79017854e+00, 3.82142854e+00, 3.39285707e+00, 3.39285707e+00,\n",
       "        1.91993200e+08],\n",
       "       [3.44642854e+00, 3.60714293e+00, 3.41071439e+00, 3.55357146e+00,\n",
       "        1.15183600e+08]])"
      ]
     },
     "execution_count": 10,
     "metadata": {},
     "output_type": "execute_result"
    }
   ],
   "source": [
    "x_train[:5]"
   ]
  },
  {
   "cell_type": "code",
   "execution_count": 11,
   "metadata": {},
   "outputs": [
    {
     "data": {
      "text/plain": [
       "array([[0.02110112, 0.02302218, 0.02086823, 0.02317552, 0.0672496 ],\n",
       "       [0.0220038 , 0.02252095, 0.02073139, 0.0206233 , 0.06407726],\n",
       "       [0.02080023, 0.02250424, 0.02122745, 0.02102895, 0.1001018 ],\n",
       "       ...,\n",
       "       [0.84213532, 0.84760239, 0.85531618, 0.85158584, 0.02195045],\n",
       "       [0.84400753, 0.85164438, 0.86129364, 0.8585522 , 0.01404532],\n",
       "       [0.8411618 , 0.85748279, 0.85416673, 0.86370127, 0.0218818 ]])"
      ]
     },
     "execution_count": 11,
     "metadata": {},
     "output_type": "execute_result"
    }
   ],
   "source": [
    "scaler = MinMaxScaler()\n",
    "scaler.fit_transform(x_train)"
   ]
  },
  {
   "cell_type": "code",
   "execution_count": 12,
   "metadata": {},
   "outputs": [],
   "source": [
    "x_test = scaler.transform(df_test.loc[:,selected_cols].values)"
   ]
  },
  {
   "cell_type": "code",
   "execution_count": 13,
   "metadata": {},
   "outputs": [
    {
     "data": {
      "text/plain": [
       "array([[0.86505119, 0.86639013, 0.86681119, 0.86150534, 0.02509619],\n",
       "       [0.84565509, 0.8505216 , 0.85470316, 0.84431658, 0.0229056 ],\n",
       "       [0.8380165 , 0.84258735, 0.81960505, 0.81872267, 0.03442309],\n",
       "       [0.81809618, 0.8278416 , 0.82627218, 0.82811218, 0.03068854],\n",
       "       [0.80985847, 0.81347012, 0.81539019, 0.82266022, 0.02931016]])"
      ]
     },
     "execution_count": 13,
     "metadata": {},
     "output_type": "execute_result"
    }
   ],
   "source": [
    "x_test[:5]"
   ]
  },
  {
   "cell_type": "code",
   "execution_count": 14,
   "metadata": {},
   "outputs": [
    {
     "name": "stdout",
     "output_type": "stream",
     "text": [
      "False False\n"
     ]
    }
   ],
   "source": [
    "print(np.isnan(x_train).any(), np.isnan(x_train).any())"
   ]
  },
  {
   "cell_type": "code",
   "execution_count": 15,
   "metadata": {},
   "outputs": [
    {
     "data": {
      "text/plain": [
       "(3957, 5)"
      ]
     },
     "execution_count": 15,
     "metadata": {},
     "output_type": "execute_result"
    }
   ],
   "source": [
    "x_train.shape"
   ]
  },
  {
   "cell_type": "code",
   "execution_count": 18,
   "metadata": {},
   "outputs": [],
   "source": [
    "def trim_dataset(mat,batch_size):\n",
    "\n",
    "    no_of_rows_drop = mat.shape[0]%batch_size\n",
    "    if no_of_rows_drop > 0:\n",
    "        return mat[:-no_of_rows_drop]\n",
    "    else:\n",
    "        return mat"
   ]
  },
  {
   "cell_type": "code",
   "execution_count": 16,
   "metadata": {},
   "outputs": [],
   "source": [
    "def build_timeseries(mat, y_col_index,time_steps=50):\n",
    "\n",
    "    dim_0 = mat.shape[0] - time_steps\n",
    "    dim_1 = mat.shape[1]\n",
    "    x = np.zeros((dim_0, time_steps, dim_1))\n",
    "    y = np.zeros((dim_0,))\n",
    "    \n",
    "    for i in tqdm_notebook(range(dim_0)):\n",
    "        x[i] = mat[i:time_steps+i]\n",
    "        y[i] = mat[time_steps+i, y_col_index]\n",
    "\n",
    "    print(\"length of time-series i/o\",x.shape,y.shape)\n",
    "    return x, y"
   ]
  },
  {
   "cell_type": "code",
   "execution_count": 17,
   "metadata": {},
   "outputs": [
    {
     "data": {
      "application/vnd.jupyter.widget-view+json": {
       "model_id": "2e3ba3056cb744158bfe1aebb8aecff7",
       "version_major": 2,
       "version_minor": 0
      },
      "text/plain": [
       "HBox(children=(IntProgress(value=0, max=3907), HTML(value='')))"
      ]
     },
     "metadata": {},
     "output_type": "display_data"
    },
    {
     "name": "stdout",
     "output_type": "stream",
     "text": [
      "\n",
      "length of time-series i/o (3907, 50, 5) (3907,)\n"
     ]
    }
   ],
   "source": [
    "x_train,y_train = build_timeseries(x_train,3)"
   ]
  },
  {
   "cell_type": "code",
   "execution_count": 19,
   "metadata": {},
   "outputs": [],
   "source": [
    "x_train = trim_dataset(x_train,20)\n",
    "y_train = trim_dataset(y_train,20)"
   ]
  },
  {
   "cell_type": "code",
   "execution_count": 20,
   "metadata": {},
   "outputs": [
    {
     "data": {
      "text/plain": [
       "(3900, 50, 5)"
      ]
     },
     "execution_count": 20,
     "metadata": {},
     "output_type": "execute_result"
    }
   ],
   "source": [
    "x_train.shape"
   ]
  },
  {
   "cell_type": "markdown",
   "metadata": {},
   "source": [
    "## Model Definition"
   ]
  },
  {
   "cell_type": "code",
   "execution_count": 21,
   "metadata": {},
   "outputs": [],
   "source": [
    "import torch as th\n",
    "import torch.nn as nn\n",
    "import torch.nn.functional as F\n",
    "import torch.optim as optim"
   ]
  },
  {
   "cell_type": "code",
   "execution_count": null,
   "metadata": {},
   "outputs": [],
   "source": [
    "class LSTM(nn.Module):\n",
    "    def __init__(self, input_size, output_size, hidden_dim, n_layers):\n",
    "        super(Model, self).__init__()\n",
    "\n",
    "        # Defining some parameters\n",
    "        self.hidden_dim = hidden_dim\n",
    "        self.n_layers = n_layers\n",
    "\n",
    "        #Defining the layers\n",
    "        # RNN Layer\n",
    "        self.rnn = nn.RNN(input_size, hidden_dim, n_layers, batch_first=True)   \n",
    "        # Fully connected layer\n",
    "        self.fc = nn.Linear(hidden_dim, output_size)\n",
    "    \n",
    "    def forward(self, x):\n",
    "        \n",
    "        batch_size = x.size(0)\n",
    "\n",
    "        # Initializing hidden state for first input using method defined below\n",
    "        hidden = self.init_hidden(batch_size)\n",
    "\n",
    "        # Passing in the input and hidden state into the model and obtaining outputs\n",
    "        out, hidden = self.rnn(x, hidden)\n",
    "        \n",
    "        # Reshaping the outputs such that it can be fit into the fully connected layer\n",
    "        out = out.contiguous().view(-1, self.hidden_dim)\n",
    "        out = self.fc(out)\n",
    "        \n",
    "        return out, hidden\n",
    "    \n",
    "    def init_hidden(self, batch_size):\n",
    "        # This method generates the first hidden state of zeros which we'll use in the forward pass\n",
    "        # We'll send the tensor holding the hidden state to the device we specified earlier as well\n",
    "        hidden = torch.zeros(self.n_layers, batch_size, self.hidden_dim)\n",
    "        return hidden"
   ]
  }
 ],
 "metadata": {
  "kernelspec": {
   "display_name": "Python [conda env:stock] *",
   "language": "python",
   "name": "conda-env-stock-py"
  },
  "language_info": {
   "codemirror_mode": {
    "name": "ipython",
    "version": 3
   },
   "file_extension": ".py",
   "mimetype": "text/x-python",
   "name": "python",
   "nbconvert_exporter": "python",
   "pygments_lexer": "ipython3",
   "version": "3.7.3"
  }
 },
 "nbformat": 4,
 "nbformat_minor": 2
}
